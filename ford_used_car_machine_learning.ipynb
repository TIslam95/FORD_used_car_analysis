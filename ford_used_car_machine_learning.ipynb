{
 "cells": [
  {
   "cell_type": "markdown",
   "id": "d0ab9e98",
   "metadata": {},
   "source": [
    "## Machine Learning: FORD Used Car Price Prediction"
   ]
  },
  {
   "cell_type": "markdown",
   "id": "3cea7ecc",
   "metadata": {},
   "source": [
    "**Author:\n",
    "<br> Md. Tariqul Islam\n",
    "<br> B.Sc. Civil Engg. (KUET)**"
   ]
  },
  {
   "cell_type": "markdown",
   "id": "53938e4f",
   "metadata": {},
   "source": [
    "In this notebook, we are working on part of a kaggle dataset containing used car information in the US for a total of 7 brands namely Audi, BMW, Skoda, Ford, Volkswagen, Toyota and Hyundai.\n",
    "(*Dataset Source:* https://www.kaggle.com/aishwaryamuthukumar/cars-dataset-audi-bmw-ford-hyundai-skoda-vw)\n",
    "\n",
    "<br>We will be developing a machine learning model from scratch based on the used car data for a particular brand, namely FORD, present in this dataset. The objective of the model will be to predict the price for a used car based on available features."
   ]
  },
  {
   "cell_type": "markdown",
   "id": "654f58e2",
   "metadata": {},
   "source": [
    "### Import Required Libraries"
   ]
  },
  {
   "cell_type": "markdown",
   "id": "c1266439",
   "metadata": {},
   "source": [
    "As mentioned above, we will be building a machine learning model based on our dataset. We might also create some visualizations to better understand what is happening with our data and our model. Hence we will require the following libraries to be imported into our notebook.\n",
    "- `pandas` for data handling\n",
    "- `LinearRegression` module from `sklearn.linear_model` for Linear Regression\n",
    "- `train_test_split` module from `sklearn.model_selection` for splitting the dataset into train data and test data\n",
    "- `mean_squared_error` from `sklearn.metrics` for error calculation\n",
    "- `matplotlib.pyplot` and `seaborn` for data visualization\n",
    "\n",
    "The following lines of codes will import the required libraries mentioned above."
   ]
  },
  {
   "cell_type": "code",
   "execution_count": 164,
   "id": "53776b77",
   "metadata": {},
   "outputs": [],
   "source": [
    "# Import Libraries for Data handling\n",
    "import pandas as pd\n",
    "\n",
    "# Import Libraries for Machine Learning\n",
    "from sklearn.linear_model import LinearRegression\n",
    "from sklearn.model_selection import train_test_split\n",
    "from sklearn.metrics import mean_squared_error\n",
    "\n",
    "# Import Libraries for Data Visualization\n",
    "import matplotlib.pyplot as plt\n",
    "import seaborn as sns"
   ]
  },
  {
   "cell_type": "markdown",
   "id": "b19ddbd2",
   "metadata": {},
   "source": [
    "### Import the Dataset"
   ]
  },
  {
   "cell_type": "markdown",
   "id": "3a193376",
   "metadata": {},
   "source": [
    "The next step will be importing our data into the notebook. The filtered data from the original dataset, containing only the information on the FORD brand cars, are saved as a CSV file named `ford.csv`. We can use the `pandas.read_csv()` function to import this data in our notebook as a pandas dataframe object."
   ]
  },
  {
   "cell_type": "code",
   "execution_count": 8,
   "id": "28762bff",
   "metadata": {},
   "outputs": [],
   "source": [
    "# Import data from a CSV file\n",
    "df = pd.read_csv(\"ford.csv\")"
   ]
  },
  {
   "cell_type": "markdown",
   "id": "fac0ceed",
   "metadata": {},
   "source": [
    "### Explore the Data"
   ]
  },
  {
   "cell_type": "markdown",
   "id": "25dab0c4",
   "metadata": {},
   "source": [
    "It is a good practice to explore the newly imported data and get familiar with every aspects of the dataset before diving into any data analysis operations. Spending a little extra time to understand the data in hand is always helpful in the long run for any data analysis related tasks."
   ]
  },
  {
   "cell_type": "markdown",
   "id": "b1c76a76",
   "metadata": {},
   "source": [
    "The simplest way of getting a good look at our data is to display the dataframe using the `display()` comamand."
   ]
  },
  {
   "cell_type": "code",
   "execution_count": 5,
   "id": "6910a7c1",
   "metadata": {
    "scrolled": true
   },
   "outputs": [
    {
     "data": {
      "text/html": [
       "<div>\n",
       "<style scoped>\n",
       "    .dataframe tbody tr th:only-of-type {\n",
       "        vertical-align: middle;\n",
       "    }\n",
       "\n",
       "    .dataframe tbody tr th {\n",
       "        vertical-align: top;\n",
       "    }\n",
       "\n",
       "    .dataframe thead th {\n",
       "        text-align: right;\n",
       "    }\n",
       "</style>\n",
       "<table border=\"1\" class=\"dataframe\">\n",
       "  <thead>\n",
       "    <tr style=\"text-align: right;\">\n",
       "      <th></th>\n",
       "      <th>model</th>\n",
       "      <th>year</th>\n",
       "      <th>price</th>\n",
       "      <th>transmission</th>\n",
       "      <th>mileage</th>\n",
       "      <th>fuelType</th>\n",
       "      <th>mpg</th>\n",
       "      <th>engineSize</th>\n",
       "    </tr>\n",
       "  </thead>\n",
       "  <tbody>\n",
       "    <tr>\n",
       "      <th>0</th>\n",
       "      <td>Fiesta</td>\n",
       "      <td>2017</td>\n",
       "      <td>12000</td>\n",
       "      <td>Automatic</td>\n",
       "      <td>15944</td>\n",
       "      <td>Petrol</td>\n",
       "      <td>57.7</td>\n",
       "      <td>1.0</td>\n",
       "    </tr>\n",
       "    <tr>\n",
       "      <th>1</th>\n",
       "      <td>Focus</td>\n",
       "      <td>2018</td>\n",
       "      <td>14000</td>\n",
       "      <td>Manual</td>\n",
       "      <td>9083</td>\n",
       "      <td>Petrol</td>\n",
       "      <td>57.7</td>\n",
       "      <td>1.0</td>\n",
       "    </tr>\n",
       "    <tr>\n",
       "      <th>2</th>\n",
       "      <td>Focus</td>\n",
       "      <td>2017</td>\n",
       "      <td>13000</td>\n",
       "      <td>Manual</td>\n",
       "      <td>12456</td>\n",
       "      <td>Petrol</td>\n",
       "      <td>57.7</td>\n",
       "      <td>1.0</td>\n",
       "    </tr>\n",
       "    <tr>\n",
       "      <th>3</th>\n",
       "      <td>Fiesta</td>\n",
       "      <td>2019</td>\n",
       "      <td>17500</td>\n",
       "      <td>Manual</td>\n",
       "      <td>10460</td>\n",
       "      <td>Petrol</td>\n",
       "      <td>40.3</td>\n",
       "      <td>1.5</td>\n",
       "    </tr>\n",
       "    <tr>\n",
       "      <th>4</th>\n",
       "      <td>Fiesta</td>\n",
       "      <td>2019</td>\n",
       "      <td>16500</td>\n",
       "      <td>Automatic</td>\n",
       "      <td>1482</td>\n",
       "      <td>Petrol</td>\n",
       "      <td>48.7</td>\n",
       "      <td>1.0</td>\n",
       "    </tr>\n",
       "    <tr>\n",
       "      <th>5</th>\n",
       "      <td>Fiesta</td>\n",
       "      <td>2015</td>\n",
       "      <td>10500</td>\n",
       "      <td>Manual</td>\n",
       "      <td>35432</td>\n",
       "      <td>Petrol</td>\n",
       "      <td>47.9</td>\n",
       "      <td>1.6</td>\n",
       "    </tr>\n",
       "    <tr>\n",
       "      <th>6</th>\n",
       "      <td>Puma</td>\n",
       "      <td>2019</td>\n",
       "      <td>22500</td>\n",
       "      <td>Manual</td>\n",
       "      <td>2029</td>\n",
       "      <td>Petrol</td>\n",
       "      <td>50.4</td>\n",
       "      <td>1.0</td>\n",
       "    </tr>\n",
       "    <tr>\n",
       "      <th>7</th>\n",
       "      <td>Fiesta</td>\n",
       "      <td>2017</td>\n",
       "      <td>9000</td>\n",
       "      <td>Manual</td>\n",
       "      <td>13054</td>\n",
       "      <td>Petrol</td>\n",
       "      <td>54.3</td>\n",
       "      <td>1.2</td>\n",
       "    </tr>\n",
       "    <tr>\n",
       "      <th>8</th>\n",
       "      <td>Kuga</td>\n",
       "      <td>2019</td>\n",
       "      <td>25500</td>\n",
       "      <td>Automatic</td>\n",
       "      <td>6894</td>\n",
       "      <td>Diesel</td>\n",
       "      <td>42.2</td>\n",
       "      <td>2.0</td>\n",
       "    </tr>\n",
       "    <tr>\n",
       "      <th>9</th>\n",
       "      <td>Focus</td>\n",
       "      <td>2018</td>\n",
       "      <td>10000</td>\n",
       "      <td>Manual</td>\n",
       "      <td>48141</td>\n",
       "      <td>Petrol</td>\n",
       "      <td>61.4</td>\n",
       "      <td>1.0</td>\n",
       "    </tr>\n",
       "  </tbody>\n",
       "</table>\n",
       "</div>"
      ],
      "text/plain": [
       "     model  year  price transmission  mileage fuelType   mpg  engineSize\n",
       "0   Fiesta  2017  12000    Automatic    15944   Petrol  57.7         1.0\n",
       "1    Focus  2018  14000       Manual     9083   Petrol  57.7         1.0\n",
       "2    Focus  2017  13000       Manual    12456   Petrol  57.7         1.0\n",
       "3   Fiesta  2019  17500       Manual    10460   Petrol  40.3         1.5\n",
       "4   Fiesta  2019  16500    Automatic     1482   Petrol  48.7         1.0\n",
       "5   Fiesta  2015  10500       Manual    35432   Petrol  47.9         1.6\n",
       "6     Puma  2019  22500       Manual     2029   Petrol  50.4         1.0\n",
       "7   Fiesta  2017   9000       Manual    13054   Petrol  54.3         1.2\n",
       "8     Kuga  2019  25500    Automatic     6894   Diesel  42.2         2.0\n",
       "9    Focus  2018  10000       Manual    48141   Petrol  61.4         1.0"
      ]
     },
     "metadata": {},
     "output_type": "display_data"
    },
    {
     "data": {
      "text/plain": [
       "(17964, 8)"
      ]
     },
     "metadata": {},
     "output_type": "display_data"
    }
   ],
   "source": [
    "# Display the dataframe data\n",
    "display(df.head(10))\n",
    "# Display Dataframe shape\n",
    "display(df.shape)"
   ]
  },
  {
   "cell_type": "markdown",
   "id": "3b5faf02",
   "metadata": {},
   "source": [
    "We can see the first 10 rows of our dataset along with the shape of the dataframe at bottom stating that the dataset consists of 17964 rows  and 8 columns. That means our dataset for used ford cars contains a total of 17964 observations and 8 features for the observations."
   ]
  },
  {
   "cell_type": "markdown",
   "id": "8f8c12fd",
   "metadata": {},
   "source": [
    "Next we can display the dataframe information to get a summary of the features and their datatypes along with some other informations."
   ]
  },
  {
   "cell_type": "code",
   "execution_count": 4,
   "id": "8dde1d19",
   "metadata": {},
   "outputs": [
    {
     "name": "stdout",
     "output_type": "stream",
     "text": [
      "<class 'pandas.core.frame.DataFrame'>\n",
      "RangeIndex: 17964 entries, 0 to 17963\n",
      "Data columns (total 8 columns):\n",
      " #   Column        Non-Null Count  Dtype  \n",
      "---  ------        --------------  -----  \n",
      " 0   model         17964 non-null  object \n",
      " 1   year          17964 non-null  int64  \n",
      " 2   price         17964 non-null  int64  \n",
      " 3   transmission  17964 non-null  object \n",
      " 4   mileage       17964 non-null  int64  \n",
      " 5   fuelType      17964 non-null  object \n",
      " 6   mpg           17964 non-null  float64\n",
      " 7   engineSize    17964 non-null  float64\n",
      "dtypes: float64(2), int64(3), object(3)\n",
      "memory usage: 1.1+ MB\n"
     ]
    }
   ],
   "source": [
    "# Display Dataframe Information\n",
    "df.info()"
   ]
  },
  {
   "cell_type": "markdown",
   "id": "48119bfa",
   "metadata": {},
   "source": [
    "We can see that among the 8 features contained in the dataset, 5 are in numerical formats and the other 3 are in string format. Also there are no missing values in any of the features in this dataframe, so no data cleaning operations are required."
   ]
  },
  {
   "cell_type": "markdown",
   "id": "664a9993",
   "metadata": {},
   "source": [
    "### Explain the features"
   ]
  },
  {
   "cell_type": "markdown",
   "id": "b367f018",
   "metadata": {},
   "source": [
    "Now we can get familiarized with the features contained in this dataframe to get a better understanding of the dataset. The 8 features contained in the dataframe are:\n",
    "- `model` : Name of the model of the car in observation\n",
    "- `year` : The making year of the car in observation\n",
    "- `price` : The resale price, in US Dollars, of the car in observation. **This will be the target variable for our Machine Learning Model.**\n",
    "- `transmission` : The transmission system used in the car in observation\n",
    "- `mileage` : Total number of miles run by the car at the time the study.\n",
    "- `fuelType` : Type of fuel used by the car\n",
    "- `mpg` : Number of miles output per galon of fuel\n",
    "- `engineSize` : The volume of fuel and air that can be pushed through car's cylinders\n",
    "\n",
    "Now that we have a better understanding of the features present in the dataset and identified our target variable, we can set out to develop our Machine Learning Model."
   ]
  },
  {
   "cell_type": "markdown",
   "id": "a9445f6b",
   "metadata": {},
   "source": [
    "### Separating the features and target variable"
   ]
  },
  {
   "cell_type": "markdown",
   "id": "858f8b53",
   "metadata": {},
   "source": [
    "The first step before building a machine learning model is to separate the feature and target variables. As we have seen above, the `price` variable in our dataset is the target variable and all the other seven variables are our feature variables.\n",
    "<br>We will have to create two different dataframes containing our feature variables and our target variable separately."
   ]
  },
  {
   "cell_type": "markdown",
   "id": "0dc0c1a4",
   "metadata": {},
   "source": [
    "For the purpose of building our initial model, we will separate only the numeric variables from our dataset as feature variables and store them in a dataset named `X`, and the `price` variable as our target variable and store it in a dataset named `Y`."
   ]
  },
  {
   "cell_type": "markdown",
   "id": "f0acbb4c",
   "metadata": {},
   "source": [
    "We will first create two lists named `features` and `target` containing only the column names of our feature and target variables and use those lists to extract the desired data columns from our dataframe and store in new ones."
   ]
  },
  {
   "cell_type": "code",
   "execution_count": 13,
   "id": "dbe3ee8e",
   "metadata": {},
   "outputs": [
    {
     "name": "stdout",
     "output_type": "stream",
     "text": [
      "Shape of X:  (17964, 4)\n",
      "Shape of y:  (17964, 1)\n"
     ]
    }
   ],
   "source": [
    "# Create feature and target lists\n",
    "features = ['mileage', 'year', 'mpg', 'engineSize']\n",
    "target = ['price']\n",
    "\n",
    "# Create feature and target dataframes\n",
    "X = df[features]\n",
    "y = df[target]\n",
    "\n",
    "# display the dataframe shapes\n",
    "print(\"Shape of X: \", X.shape)\n",
    "print(\"Shape of y: \", y.shape)"
   ]
  },
  {
   "cell_type": "markdown",
   "id": "dd9b3320",
   "metadata": {},
   "source": [
    "### Split the Data into Train Set and Test Set"
   ]
  },
  {
   "cell_type": "markdown",
   "id": "4fb9f0e5",
   "metadata": {},
   "source": [
    "The next step for building a ML model is to split the available data into training and test set. This basic concept is to use part of the available data for training the model and, after training, to use the rest of the data to test the trained model accuracy.\n",
    "<br>Usually the train set consists of 80% of the available data, and the test set consists of the rest 20% data. The splitting or sampling is done randomly so as to diversify the observations present in either the test set or the train set."
   ]
  },
  {
   "cell_type": "markdown",
   "id": "214d05d0",
   "metadata": {},
   "source": [
    "The splitting is done by using the `train_test_split()` function from `SciKit Learn`. A `random_state` value is provided to the function along with other arguments so that the randomization is fixed and the whole splitting process can be recreated later for comparison purposes. We will be providing `random_state = 47` as the function argument."
   ]
  },
  {
   "cell_type": "code",
   "execution_count": 14,
   "id": "ef7f7e65",
   "metadata": {},
   "outputs": [
    {
     "name": "stdout",
     "output_type": "stream",
     "text": [
      "X_train shape:  (14371, 4)\n",
      "y_train shape:  (14371, 1)\n",
      "X_test shape:  (3593, 4)\n",
      "y_test shape:  (3593, 1)\n"
     ]
    }
   ],
   "source": [
    "# Split the Dataset\n",
    "X_train, X_test, y_train, y_test = train_test_split(X, y, test_size = 0.2, random_state = 47)\n",
    "\n",
    "# Display Split Data shapes\n",
    "print(\"X_train shape: \", X_train.shape)\n",
    "print(\"y_train shape: \", y_train.shape)\n",
    "print(\"X_test shape: \", X_test.shape)\n",
    "print(\"y_test shape: \", y_test.shape)"
   ]
  },
  {
   "cell_type": "markdown",
   "id": "072b408c",
   "metadata": {},
   "source": [
    "#### Perform Linear Regression"
   ]
  },
  {
   "cell_type": "markdown",
   "id": "d39c7970",
   "metadata": {},
   "source": [
    "Now we will create a linear regression model based on the train set data to predict the price of used FORD cars."
   ]
  },
  {
   "cell_type": "markdown",
   "id": "4a40caf7",
   "metadata": {},
   "source": [
    "To achieve this goal, we will first need to create an instance of the `LinearRegression()` model in our environment, and then fit our training data in that model."
   ]
  },
  {
   "cell_type": "code",
   "execution_count": 15,
   "id": "9518b1e6",
   "metadata": {},
   "outputs": [],
   "source": [
    "# Create a model instance\n",
    "model = LinearRegression()\n",
    "\n",
    "# Fit data to model\n",
    "model = model.fit(X_train, y_train)"
   ]
  },
  {
   "cell_type": "markdown",
   "id": "a65c9afe",
   "metadata": {},
   "source": [
    "#### Predict Price from the test set"
   ]
  },
  {
   "cell_type": "markdown",
   "id": "b3000925",
   "metadata": {},
   "source": [
    "Now it's time to see if our model is accurate enough to predict the price of used cars. For this purpose, we will use our test features and predict the target variable using our fitted model. The predicted prices will be stored inside a new dataframe."
   ]
  },
  {
   "cell_type": "code",
   "execution_count": 16,
   "id": "fbabddee",
   "metadata": {},
   "outputs": [],
   "source": [
    "# Predict from the test set features\n",
    "y_pred = model.predict(X_test)"
   ]
  },
  {
   "cell_type": "markdown",
   "id": "00c03c89",
   "metadata": {},
   "source": [
    "#### Visualize difference between original and predicted prices"
   ]
  },
  {
   "cell_type": "markdown",
   "id": "bb8c3fc4",
   "metadata": {},
   "source": [
    "Now let's first visualize the difference in our predicted values and the original values of the target variable using a line chart. This will give as a qualitative representation of our model's accuracy."
   ]
  },
  {
   "cell_type": "markdown",
   "id": "5105ec9f",
   "metadata": {},
   "source": [
    "For visualization purpose, we will first create a new dataframe named `df_compare` containing only the original and predicted prices and rename the columns as `Original_Price` and `Predicted_Price`. As we know that our predicted and test datasets contain thousands of observation, we will be taking only a portion of the `df_compare` dataset for our visualization."
   ]
  },
  {
   "cell_type": "markdown",
   "id": "f442efbc",
   "metadata": {},
   "source": [
    "We will use the `dataframe.sample()` method to extract a randomized fraction of our dataset and store it in a new dataframe named `df_visualization`. We will then reset the index of our visualization dataframe for avoiding unwanted issues in our visualizations.\n",
    "<br>We will be creating two individual line plotsand use a SeaBorn lineplot to visualize the differences between the original and predicted prices in the sampled data.\n",
    "<br>The following lines of codes will complete this objective."
   ]
  },
  {
   "cell_type": "code",
   "execution_count": 104,
   "id": "40cc413d",
   "metadata": {},
   "outputs": [],
   "source": [
    "# Create a Blank Dataframe\n",
    "df_compare = pd.DataFrame()\n",
    "\n",
    "# Insert dataframe columns\n",
    "df_compare[\"Original_Price\"] = y_test['price']\n",
    "df_compare[\"Predicted_Price\"] = y_pred\n",
    "\n"
   ]
  },
  {
   "cell_type": "code",
   "execution_count": 177,
   "id": "96ade086",
   "metadata": {},
   "outputs": [
    {
     "data": {
      "image/png": "[encoded data removed]",
      "text/plain": [
       "<Figure size 1080x360 with 1 Axes>"
      ]
     },
     "metadata": {},
     "output_type": "display_data"
    }
   ],
   "source": [
    "# Create sampled dataset for visualization\n",
    "df_visualization = df_compare.sample(n = 100, random_state = 47)\n",
    "\n",
    "# Reset index of new dataframe\n",
    "df_visualization = df_visualization.reset_index(drop = True)\n",
    "\n",
    "# Create LinePlot Visualization\n",
    "sns.set_context(\"talk\")\n",
    "sns.set_style(\"darkgrid\")\n",
    "\n",
    "plt.figure(figsize = (15,5))\n",
    "sns.lineplot(data = df_visualization)\n",
    "plt.title(\"Comparison between Original Price and Predicted Price of FORD Use Cars\")\n",
    "plt.ylabel(\"Price (USD)\")\n",
    "# plt.xticks(ticks=[])\n",
    "# plt.axhline()\n",
    "# plt.axvline()\n",
    "plt.show()"
   ]
  },
  {
   "cell_type": "markdown",
   "id": "a93b9768",
   "metadata": {},
   "source": [
    "#### Find the RMSE value"
   ]
  },
  {
   "cell_type": "markdown",
   "id": "f7735d13",
   "metadata": {},
   "source": [
    "We have already seen a visual representation of the prediction errors in parts of the test data. We can also use different mathematical metrics to measure the level of errors in our model's prediction values."
   ]
  },
  {
   "cell_type": "markdown",
   "id": "2811daa1",
   "metadata": {},
   "source": [
    "As an example of error metrics, we will calculate the Root Mean Squared Error (RMSE) value to qualify the level of error in our prediction."
   ]
  },
  {
   "cell_type": "code",
   "execution_count": 163,
   "id": "1c304825",
   "metadata": {},
   "outputs": [
    {
     "name": "stdout",
     "output_type": "stream",
     "text": [
      "RMSE:  2497.825940416747\n"
     ]
    }
   ],
   "source": [
    "# Evaluat RMSE value\n",
    "RMSE = mean_squared_error(y_test, y_pred, squared = False)\n",
    "print(\"RMSE: \", RMSE)"
   ]
  },
  {
   "cell_type": "markdown",
   "id": "1e2f9978",
   "metadata": {},
   "source": [
    "We can see that the RMSE value in each of our prediction is about 2500 USD, which is way too much unacceptable. So we must further develop our model to minimize the errors in the predicted values."
   ]
  }
 ],
 "metadata": {
  "kernelspec": {
   "display_name": "Python 3",
   "language": "python",
   "name": "python3"
  },
  "language_info": {
   "codemirror_mode": {
    "name": "ipython",
    "version": 3
   },
   "file_extension": ".py",
   "mimetype": "text/x-python",
   "name": "python",
   "nbconvert_exporter": "python",
   "pygments_lexer": "ipython3",
   "version": "3.8.8"
  }
 },
 "nbformat": 4,
 "nbformat_minor": 5
}
